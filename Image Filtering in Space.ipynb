{
 "cells": [
  {
   "cell_type": "markdown",
   "metadata": {},
   "source": [
    "# Image Intensity Transformations\n",
    "\n",
    "by Michael Grüner\n",
    "\n",
    "Images can be manipulated broadly at two different levels:\n",
    "* Position\n",
    "* Intensity\n",
    "\n",
    "The transformations in this notebook modify the intensity values of each pixel, but leaves the position untouched.\n",
    "\n",
    "Let's do some filtering examples.\n",
    "\n",
    "# Common Code\n",
    "The following code will be used along the rest of the notebook, please make sure you execute each kernel."
   ]
  },
  {
   "cell_type": "code",
   "execution_count": null,
   "metadata": {},
   "outputs": [],
   "source": [
    "import numpy as np\n",
    "import cv2\n",
    "import scipy.signal\n",
    "from matplotlib import pyplot as plt\n",
    "from mpl_toolkits import mplot3d\n",
    "from ipywidgets import interact, interactive\n",
    "import ipywidgets as widgets"
   ]
  },
  {
   "cell_type": "markdown",
   "metadata": {},
   "source": [
    "## Moving Average Filter\n",
    "\n",
    "The MA filter computes the average over a window. As such it is a low pass filter. For example a $3\\times 3$ MA filter is represented by:\n",
    "\n",
    "\\begin{equation*}\n",
    "h(x,y) = \\frac{1}{W\\cdot H}\\begin{bmatrix}\n",
    "1 & 1 & 1\\\\\n",
    "1 & 1 & 1\\\\\n",
    "1 & 1 & 1\\\\\n",
    "\\end{bmatrix}\n",
    "\\end{equation*}\n",
    "\n",
    "where $W$ and $H$ are 3 each."
   ]
  },
  {
   "cell_type": "markdown",
   "metadata": {},
   "source": [
    "### Using convolution manually\n",
    "\n",
    "The following uses scipy convolution2d to implement a moving average filter.\n",
    "\n",
    "* What is happening with the border?\n",
    "* How would you fix it?\n",
    "* What are the \"full\", \"valid\", and \"same\" arguments?\n",
    "\n",
    "https://docs.scipy.org/doc/scipy/reference/generated/scipy.signal.convolve2d.html"
   ]
  },
  {
   "cell_type": "code",
   "execution_count": null,
   "metadata": {},
   "outputs": [],
   "source": [
    "@interact(ksize=widgets.IntSlider(min=3,max=21,step=2,value=3,continuous_update=False),\n",
    "          mode=[\"full\", \"valid\", \"same\"],\n",
    "          boundary=[\"fill\", \"wrap\", \"symm\"],\n",
    "         )\n",
    "def t(ksize, mode, boundary):\n",
    "    img = cv2.imread('lenna.png', cv2.IMREAD_GRAYSCALE)\n",
    "    \n",
    "    size = (ksize, ksize)\n",
    "    kernel = np.ones(size)*1/(ksize*ksize)\n",
    "    #print(kernel)\n",
    "    \n",
    "    dst = scipy.signal.convolve2d (img, kernel, mode, boundary)\n",
    "    print(\"Input size:\", img.shape)\n",
    "    print(\"Output size:\", dst.shape)\n",
    "    \n",
    "    plt.subplot(\"121\")\n",
    "    plt.imshow(img, cmap='gray')\n",
    "    plt.subplot(\"122\")\n",
    "    plt.imshow(dst, cmap='gray')\n"
   ]
  },
  {
   "cell_type": "markdown",
   "metadata": {},
   "source": [
    "### Experiment with Different Kernels\n",
    "Go ahead and change the kernel to see the different effects. Try to, at least, test the following:\n",
    "* Unitary impulse\n",
    "* \\begin{equation*}\n",
    "\\begin{pmatrix} 1 & 0 & 0\\\\ 0 & 0 & 0\\\\ 0 & 0 & 0 \\end{pmatrix}\n",
    "\\end{equation*}\n",
    "* Sobel X\n",
    "* Sobel Y\n",
    "* Sobel Magnitude"
   ]
  },
  {
   "cell_type": "code",
   "execution_count": null,
   "metadata": {},
   "outputs": [],
   "source": [
    "img = cv2.imread('lenna.png', cv2.IMREAD_GRAYSCALE)\n",
    "    \n",
    "kernel = [\n",
    "    [0, 0, 1],\n",
    "    [0, 0, 0],\n",
    "    [-1, -2, -1]\n",
    "]\n",
    "print(kernel)\n",
    "\n",
    "\n",
    "dst = scipy.signal.convolve2d (img, kernel, \"full\", \"fill\")\n",
    "print (dst)\n",
    "print(\"Input size:\", img.shape)\n",
    "print(\"Output size:\", dst.shape)\n",
    "    \n",
    "plt.subplot(\"121\")\n",
    "plt.imshow(img, cmap='gray')\n",
    "plt.subplot(\"122\")\n",
    "plt.imshow(dst, cmap='gray')"
   ]
  },
  {
   "cell_type": "markdown",
   "metadata": {},
   "source": [
    "### Opencv Filter2D\n",
    "\n",
    "\n",
    "The following code implements a moving average filter using OpenCV's filter2D.\n",
    "\n",
    "https://docs.opencv.org/3.4/d4/d86/group__imgproc__filter.html"
   ]
  },
  {
   "cell_type": "code",
   "execution_count": null,
   "metadata": {},
   "outputs": [],
   "source": [
    "@interact(ksize=widgets.IntSlider(min=3,max=21,step=2,value=3,continuous_update=False))\n",
    "def t(ksize):\n",
    "    img = cv2.imread('lenna.png', cv2.IMREAD_GRAYSCALE)\n",
    "    size = (ksize, ksize)\n",
    "    kernel = np.ones(size)*1/(ksize*ksize)\n",
    "    #print(kernel)\n",
    "    \n",
    "    dst = cv2.filter2D (img, -1, kernel)\n",
    "    \n",
    "    plt.subplot(\"121\")\n",
    "    plt.imshow(img, cmap='gray')\n",
    "    plt.subplot(\"122\")\n",
    "    plt.imshow(dst, cmap='gray')"
   ]
  },
  {
   "cell_type": "markdown",
   "metadata": {},
   "source": [
    "### OpenCV Blur\n",
    "\n",
    "The following code implements a moving average filter using OpenCV's blur.\n",
    "\n",
    "https://docs.opencv.org/3.4/d4/d86/group__imgproc__filter.html"
   ]
  },
  {
   "cell_type": "code",
   "execution_count": null,
   "metadata": {},
   "outputs": [],
   "source": [
    "@interact(ksize=widgets.IntSlider(min=3,max=21,step=2,value=3,continuous_update=False))\n",
    "def t(ksize):\n",
    "    img = cv2.imread('lenna.png', cv2.IMREAD_GRAYSCALE)\n",
    "    \n",
    "    size = (ksize, ksize)\n",
    "    dst = cv2.blur(img, size)\n",
    "\n",
    "    plt.subplot(\"121\")\n",
    "    plt.imshow(img, cmap='gray')\n",
    "    plt.subplot(\"122\")\n",
    "    plt.imshow(dst, cmap='gray')"
   ]
  },
  {
   "cell_type": "markdown",
   "metadata": {},
   "source": [
    "## Gaussian Blur\n",
    "The Gaussian Blur is a low pass filter with coefficients generated by the Gaussian Bell.\n",
    "\n",
    "* Why isn't the image blurring? The kernel size is huge!!!"
   ]
  },
  {
   "cell_type": "code",
   "execution_count": null,
   "metadata": {},
   "outputs": [],
   "source": [
    "@interact(ksize=widgets.IntSlider(min=3,max=51,step=2,value=3,continuous_update=False))\n",
    "def t(ksize):\n",
    "    img = cv2.imread('lenna.png', cv2.IMREAD_GRAYSCALE)\n",
    "\n",
    "    sigma = 0.5\n",
    "    size = (ksize,ksize)\n",
    "    \n",
    "    dst = cv2.GaussianBlur(img, size, sigma)\n",
    "\n",
    "    plt.subplot(\"121\")\n",
    "    plt.imshow(img, cmap='gray')\n",
    "    plt.subplot(\"122\")\n",
    "    plt.imshow(dst, cmap='gray')"
   ]
  },
  {
   "cell_type": "markdown",
   "metadata": {},
   "source": [
    "### Separable Kernel\n",
    "Some kernels are said to be separable. The gaussian kernel is separable, hence it may be executed more efficiently."
   ]
  },
  {
   "cell_type": "code",
   "execution_count": null,
   "metadata": {},
   "outputs": [],
   "source": [
    "@interact(ksize=widgets.IntSlider(min=3,max=21,step=2,value=3,continuous_update=False))\n",
    "def t(ksize):\n",
    "    img = cv2.imread('lenna.png', cv2.IMREAD_GRAYSCALE)\n",
    "    rows,cols = img.shape\n",
    "\n",
    "    # Always compute the sigma according to the size, or viceversa\n",
    "    sigma = 0.3*((ksize-1)*0.5 - 1) + 0.8\n",
    "    kernel = cv2.getGaussianKernel(ksize, sigma)\n",
    "    print(kernel)\n",
    "    \n",
    "    dst = cv2.sepFilter2D(img,-1,kernel,kernel)\n",
    "\n",
    "    plt.imshow(dst, cmap='gray')"
   ]
  },
  {
   "cell_type": "markdown",
   "metadata": {},
   "source": [
    "### Practice\n",
    "Implement the gaussian filter but using filter2D"
   ]
  },
  {
   "cell_type": "code",
   "execution_count": null,
   "metadata": {},
   "outputs": [],
   "source": [
    "@interact(ksize=widgets.IntSlider(min=3,max=21,step=2,value=3,continuous_update=False))\n",
    "def t(ksize):\n",
    "    img = cv2.imread('lenna.png', cv2.IMREAD_GRAYSCALE)\n",
    "\n",
    "    # I need a volunteer!\n",
    "    \n",
    "    dst = img\n",
    "    plt.imshow(dst, cmap='gray')"
   ]
  },
  {
   "cell_type": "markdown",
   "metadata": {},
   "source": [
    "## Laplacian Filter\n",
    "The laplacian filter measures *edgeness* in an image. Since its a high pass filter it's very suceptible to noise. Hence, it's important to filter the image using a Gaussian (for example) first, and then computes the filters.\n",
    "\n",
    "* Compute the [Laplacian](https://docs.opencv.org/master/d4/d86/group__imgproc__filter.html#gad78703e4c8fe703d479c1860d76429e6) operator on the image and show the borders\n",
    "* Sharpen an image using\n",
    "\\begin{equation*}\n",
    "I'(x,y) = I(x,y) + c\\nabla^2I(x,y)\n",
    "\\end{equation*}"
   ]
  },
  {
   "cell_type": "code",
   "execution_count": null,
   "metadata": {},
   "outputs": [],
   "source": [
    "@interact(c=widgets.FloatSlider(min=0,max=1,step=0.05,value=0.5,continuous_update=False),\n",
    "          ksize=widgets.IntSlider(min=1,max=7,step=2,value=1,continuous_update=False),\n",
    "          scale=widgets.FloatSlider(min=1,max=3,step=0.1,value=1,continuous_update=False),\n",
    "          delta=widgets.IntSlider(min=0,max=15,step=1,value=0,continuous_update=False))\n",
    "def t(c, ksize, scale, delta):\n",
    "    img = cv2.imread('lenna.png', cv2.IMREAD_GRAYSCALE)\n",
    "    rows,cols = img.shape\n",
    "\n",
    "    dst = img\n",
    "    \n",
    "    plt.subplot(\"121\")\n",
    "    plt.imshow(img, cmap='gray', vmin=0, vmax=255)\n",
    "    plt.subplot(\"122\")\n",
    "    plt.imshow(dst, cmap='gray', vmin=0, vmax=255)\n",
    "\n"
   ]
  },
  {
   "cell_type": "markdown",
   "metadata": {},
   "source": [
    "### Bilateral Filter\n",
    "The smoothing filters averages the noise, but in exchange the fade out borders. The bilateral filter extends the Gaussian filter to consider not only nearby pixels, but also nearby values. This filters noise but preserves borders!\n",
    "\n",
    "\\begin{equation*}\n",
    "I'(x) = \\sum_{x_i \\in \\Omega}G_{\\sigma_s}(x_i - x) G_{\\sigma_r} (I(x_i) - I(x)) I(x_i)\n",
    "\\end{equation*}\n",
    "\n",
    "Use OpenCV's [Bilateral Filter](https://docs.opencv.org/master/d4/d86/group__imgproc__filter.html#ga9d7064d478c95d60003cf839430737ed) to filter an image."
   ]
  },
  {
   "cell_type": "code",
   "execution_count": null,
   "metadata": {},
   "outputs": [],
   "source": [
    "@interact(c=widgets.FloatSlider(min=0,max=1,step=0.05,value=0.5,continuous_update=False),\n",
    "          ksize=widgets.IntSlider(min=3,max=7,step=2,value=3,continuous_update=False),\n",
    "          scale=widgets.IntSlider(min=1,max=15,step=2,value=1,continuous_update=False),\n",
    "          delta=widgets.IntSlider(min=0,max=15,step=1,value=0,continuous_update=False))\n",
    "def t(c, ksize, scale, delta):\n",
    "    img = cv2.imread('lenna.png', cv2.IMREAD_GRAYSCALE)\n",
    "    rows,cols = img.shape\n",
    "\n",
    "    # I need a volunteer!\n",
    "    \n",
    "    plt.subplot(\"121\")\n",
    "    plt.imshow(img, cmap='gray')\n",
    "    plt.subplot(\"122\")\n",
    "    plt.imshow(dst, cmap='gray')\n",
    "    "
   ]
  },
  {
   "cell_type": "markdown",
   "metadata": {},
   "source": [
    "## Non-linear rank filters\n",
    "Rank filters are non-linear filters that, instead of using the convolution, compute the output pixel by performing a ranking calculation over a neighborhood. Some examples are:\n",
    "* Median filter\n",
    "* Max filter\n",
    "* Min filter\n",
    "\n",
    "### Median filter\n",
    "Median filter is specially useful for salt&pepper noise. Go ahead and implement a median filter on the noisy lenna.\n"
   ]
  },
  {
   "cell_type": "code",
   "execution_count": null,
   "metadata": {},
   "outputs": [],
   "source": [
    "@interact(ksize=widgets.IntSlider(min=3,max=21,step=2,value=3,continuous_update=False))\n",
    "def t(ksize):\n",
    "    img = cv2.imread('lenna_noisy.png', cv2.IMREAD_GRAYSCALE)\n",
    "    rows,cols = img.shape\n",
    "    \n",
    "    sigma = 0.3*((ksize-1)*0.5 - 1) + 0.8\n",
    "    size = (ksize,ksize)\n",
    "        \n",
    "    dst = cv2.medianBlur(img, ksize)\n",
    "    \n",
    "    \n",
    "    plt.subplot(\"121\")\n",
    "    plt.imshow(img, cmap='gray')\n",
    "    plt.subplot(\"122\")\n",
    "    plt.imshow(dst, cmap='gray')"
   ]
  },
  {
   "cell_type": "markdown",
   "metadata": {},
   "source": [
    "Try to perform salt&pepper noise using a Gaussian filter. What do you notice"
   ]
  },
  {
   "cell_type": "code",
   "execution_count": null,
   "metadata": {},
   "outputs": [],
   "source": [
    "@interact(ksize=widgets.IntSlider(min=3,max=21,step=2,value=3,continuous_update=False))\n",
    "def t(ksize):\n",
    "    img = cv2.imread('lenna_noisy.png', cv2.IMREAD_GRAYSCALE)\n",
    "    rows,cols = img.shape\n",
    "\n",
    "\n",
    "    ### I need a volunteer\n",
    "    dst = img\n",
    "    \n",
    "    \n",
    "    plt.subplot(\"121\")\n",
    "    plt.imshow(img, cmap='gray')\n",
    "    plt.subplot(\"122\")\n",
    "    plt.imshow(dst, cmap='gray')"
   ]
  },
  {
   "cell_type": "code",
   "execution_count": null,
   "metadata": {},
   "outputs": [],
   "source": []
  }
 ],
 "metadata": {
  "kernelspec": {
   "display_name": "Python 3",
   "language": "python",
   "name": "python3"
  },
  "language_info": {
   "codemirror_mode": {
    "name": "ipython",
    "version": 3
   },
   "file_extension": ".py",
   "mimetype": "text/x-python",
   "name": "python",
   "nbconvert_exporter": "python",
   "pygments_lexer": "ipython3",
   "version": "3.7.6"
  }
 },
 "nbformat": 4,
 "nbformat_minor": 2
}
